{
  "nbformat": 4,
  "nbformat_minor": 0,
  "metadata": {
    "colab": {
      "provenance": []
    },
    "kernelspec": {
      "name": "python3",
      "display_name": "Python 3"
    },
    "language_info": {
      "name": "python"
    }
  },
  "cells": [
    {
      "cell_type": "markdown",
      "source": [
        "#1. Data Exploration"
      ],
      "metadata": {
        "id": "04KTxX1-2dRZ"
      }
    },
    {
      "cell_type": "markdown",
      "source": [
        "### 1.1 Importing Libraries"
      ],
      "metadata": {
        "id": "-7zxpiEs19Ry"
      }
    },
    {
      "cell_type": "code",
      "source": [
        "import numpy as np\n",
        "import pandas as pd\n",
        "from transformers import pipeline"
      ],
      "metadata": {
        "id": "VtNFVx0R9Wng"
      },
      "execution_count": 5,
      "outputs": []
    },
    {
      "cell_type": "markdown",
      "source": [
        "### 1.2 Importing Sentiment Analysis RoBERTa Model"
      ],
      "metadata": {
        "id": "i9BWLet1ycah"
      }
    },
    {
      "cell_type": "code",
      "source": [
        "sentiment_pipeline = pipeline(\"sentiment-analysis\" , model = \"cardiffnlp/twitter-roberta-base-sentiment\")\n",
        "label_mapping = {\n",
        "    \"LABEL_0\": \"Negative\",\n",
        "    \"LABEL_1\": \"Neutral\",\n",
        "    \"LABEL_2\": \"Positive\"\n",
        "}\n",
        "def score_to_rank(sentiment, score):\n",
        "    # Map score to sentiment ranking\n",
        "    if sentiment == \"Positive\":\n",
        "        if score >= 0.8:\n",
        "            return 5\n",
        "        elif score >= 0.6:\n",
        "            return 4\n",
        "        elif score >= 0.4:\n",
        "            return 3\n",
        "        elif score >= 0.2:\n",
        "            return 2\n",
        "        else:\n",
        "            return 1\n",
        "    elif sentiment == \"Negative\":\n",
        "        if score >= 0.8:\n",
        "            return 1\n",
        "        elif score >= 0.6:\n",
        "            return 2\n",
        "        elif score >= 0.4:\n",
        "            return 3\n",
        "        elif score >= 0.2:\n",
        "            return 4\n",
        "        else:\n",
        "            return 5\n",
        "    else:\n",
        "        # For Neutral sentiment, return a fixed rank\n",
        "        return 3\n",
        "\n"
      ],
      "metadata": {
        "id": "3q2aLS8-ycEK"
      },
      "execution_count": 15,
      "outputs": []
    },
    {
      "cell_type": "code",
      "source": [
        "sample_texts = [\n",
        "    \"I love this product, it's amazing!\",\n",
        "    \"This movie was terrible, I hated it.\",\n",
        "    \"The weather today is perfect.\",\n",
        "    \"I'm feeling neutral about this situation.\",\n",
        "]\n",
        "results = sentiment_pipeline(sample_texts)\n",
        "for text, result in zip(sample_texts, results):\n",
        "    # Get sentiment label from mapping\n",
        "    sentiment_label = label_mapping[result['label']]\n",
        "    # Get sentiment score from result\n",
        "    sentiment_score = result['score']\n",
        "    # Get sentiment rank based on label and score\n",
        "    sentiment_score_rank = score_to_rank(sentiment_label, sentiment_score)\n",
        "    # Print formatted output\n",
        "    print(f\"Text: {text}\")\n",
        "    print(f\"Sentiment: {sentiment_label}, Score Rank: {sentiment_score_rank}\")\n",
        "    print()\n"
      ],
      "metadata": {
        "colab": {
          "base_uri": "https://localhost:8080/"
        },
        "id": "2-gWmWhX_sNT",
        "outputId": "7a835ec4-b0c8-48d8-eacd-a2297a88ca43"
      },
      "execution_count": 18,
      "outputs": [
        {
          "output_type": "stream",
          "name": "stdout",
          "text": [
            "Text: I love this product, it's amazing!\n",
            "Sentiment: Positive, Score Rank: 5\n",
            "\n",
            "Text: This movie was terrible, I hated it.\n",
            "Sentiment: Negative, Score Rank: 1\n",
            "\n",
            "Text: The weather today is perfect.\n",
            "Sentiment: Positive, Score Rank: 5\n",
            "\n",
            "Text: I'm feeling neutral about this situation.\n",
            "Sentiment: Neutral, Score Rank: 3\n",
            "\n"
          ]
        }
      ]
    }
  ]
}